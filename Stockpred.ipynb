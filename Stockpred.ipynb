{
 "cells": [
  {
   "cell_type": "code",
   "execution_count": 1,
   "metadata": {
    "executionInfo": {
     "elapsed": 542,
     "status": "ok",
     "timestamp": 1658382714464,
     "user": {
      "displayName": "Nisheeth Chobisa",
      "userId": "10953597371653513919"
     },
     "user_tz": -330
    },
    "id": "gQxmtTkejSka"
   },
   "outputs": [],
   "source": [
    "#Load the dependencies\n",
    "import pandas as pd\n",
    "import numpy as np\n",
    "from sklearn.model_selection import train_test_split\n",
    "from sklearn.linear_model import LinearRegression\n",
    "from sklearn import metrics\n",
    "import matplotlib.pyplot as plt\n",
    "from matplotlib import style\n",
    "\n"
   ]
  },
  {
   "cell_type": "code",
   "execution_count": 2,
   "metadata": {
    "executionInfo": {
     "elapsed": 3,
     "status": "ok",
     "timestamp": 1658382716540,
     "user": {
      "displayName": "Nisheeth Chobisa",
      "userId": "10953597371653513919"
     },
     "user_tz": -330
    },
    "id": "UPbKIAPwkpSP"
   },
   "outputs": [],
   "source": [
    "plt.style.use('bmh')"
   ]
  },
  {
   "cell_type": "code",
   "execution_count": 3,
   "metadata": {
    "executionInfo": {
     "elapsed": 2,
     "status": "ok",
     "timestamp": 1658382718015,
     "user": {
      "displayName": "Nisheeth Chobisa",
      "userId": "10953597371653513919"
     },
     "user_tz": -330
    },
    "id": "4FFlTzMUlL3Y"
   },
   "outputs": [],
   "source": [
    "style.use('ggplot')"
   ]
  },
  {
   "cell_type": "code",
   "execution_count": 5,
   "metadata": {
    "executionInfo": {
     "elapsed": 2,
     "status": "ok",
     "timestamp": 1658382719528,
     "user": {
      "displayName": "Nisheeth Chobisa",
      "userId": "10953597371653513919"
     },
     "user_tz": -330
    },
    "id": "uhXlVwHllUMf"
   },
   "outputs": [],
   "source": [
    "#Load the data and Store the data into a data frame\n",
    "df=pd.read_csv('TSLA.csv')"
   ]
  },
  {
   "cell_type": "code",
   "execution_count": 6,
   "metadata": {
    "colab": {
     "base_uri": "https://localhost:8080/"
    },
    "executionInfo": {
     "elapsed": 461,
     "status": "ok",
     "timestamp": 1658382722234,
     "user": {
      "displayName": "Nisheeth Chobisa",
      "userId": "10953597371653513919"
     },
     "user_tz": -330
    },
    "id": "d0XmXDutlvJ1",
    "outputId": "9c593d6d-a397-44d1-87be-2654c83348f3"
   },
   "outputs": [
    {
     "name": "stdout",
     "output_type": "stream",
     "text": [
      "         Open       High        Low      Close  Adj Close    Volume\n",
      "0   19.000000  25.000000  17.540001  23.889999  23.889999  18766300\n",
      "1   25.790001  30.420000  23.299999  23.830000  23.830000  17187100\n",
      "2   25.000000  25.920000  20.270000  21.959999  21.959999   8218800\n",
      "3   23.000000  23.100000  18.709999  19.200001  19.200001   5139800\n",
      "4   20.000000  20.000000  15.830000  16.110001  16.110001   6866900\n",
      "5   16.400000  16.629999  14.980000  15.800000  15.800000   6921700\n",
      "6   16.139999  17.520000  15.570000  17.459999  17.459999   7711400\n",
      "7   17.580000  17.900000  16.549999  17.400000  17.400000   4050600\n",
      "8   17.950001  18.070000  17.000000  17.049999  17.049999   2202500\n",
      "9   17.389999  18.639999  16.900000  18.139999  18.139999   2680100\n",
      "10  17.940001  20.150000  17.760000  19.840000  19.840000   4195200\n",
      "11  19.940001  21.500000  19.000000  19.889999  19.889999   3739800\n",
      "12  20.700001  21.299999  20.049999  20.639999  20.639999   2621300\n",
      "13  21.370001  22.250000  20.920000  21.910000  21.910000   2486500\n",
      "14  21.850000  21.850000  20.049999  20.299999  20.299999   1825300\n",
      "15  20.660000  20.900000  19.500000  20.219999  20.219999   1252500\n",
      "16  20.500000  21.250000  20.370001  21.000000  21.000000    957800\n",
      "17  21.190001  21.559999  21.059999  21.290001  21.290001    653600\n",
      "18  21.500000  21.500000  20.299999  20.950001  20.950001    922200\n",
      "19  20.910000  21.180000  20.260000  20.549999  20.549999    619700\n",
      "20  20.549999  20.900000  20.510000  20.719999  20.719999    467200\n",
      "21  20.770000  20.879999  20.000000  20.350000  20.350000    616000\n",
      "22  20.200001  20.440001  19.549999  19.940001  19.940001    426900\n",
      "23  20.500000  20.969999  20.330000  20.920000  20.920000    718100\n",
      "24  21.000000  21.950001  20.820000  21.950001  21.950001   1230500\n"
     ]
    }
   ],
   "source": [
    "print (df.head(25))"
   ]
  },
  {
   "cell_type": "code",
   "execution_count": 7,
   "metadata": {
    "executionInfo": {
     "elapsed": 466,
     "status": "ok",
     "timestamp": 1658382727003,
     "user": {
      "displayName": "Nisheeth Chobisa",
      "userId": "10953597371653513919"
     },
     "user_tz": -330
    },
    "id": "x9vLRRIel7Kx"
   },
   "outputs": [],
   "source": [
    "\n",
    "x=df[['High','Open', 'Low', 'Volume']].values\n",
    "y=df['Close'].values\n",
    "\n"
   ]
  },
  {
   "cell_type": "code",
   "execution_count": 8,
   "metadata": {
    "executionInfo": {
     "elapsed": 1,
     "status": "ok",
     "timestamp": 1658382728741,
     "user": {
      "displayName": "Nisheeth Chobisa",
      "userId": "10953597371653513919"
     },
     "user_tz": -330
    },
    "id": "bl83DiB2mU4A"
   },
   "outputs": [],
   "source": [
    "x_train,x_test,y_train,y_test = train_test_split(x,y, test_size=0.2, random_state=0)"
   ]
  },
  {
   "cell_type": "code",
   "execution_count": 9,
   "metadata": {
    "colab": {
     "base_uri": "https://localhost:8080/"
    },
    "executionInfo": {
     "elapsed": 478,
     "status": "ok",
     "timestamp": 1658382731070,
     "user": {
      "displayName": "Nisheeth Chobisa",
      "userId": "10953597371653513919"
     },
     "user_tz": -330
    },
    "id": "eFFo-L8XmsJp",
    "outputId": "657f198a-0afb-4758-f653-d46f478b0608"
   },
   "outputs": [
    {
     "data": {
      "text/plain": [
       "LinearRegression(copy_X=True, fit_intercept=True, n_jobs=None, normalize=False)"
      ]
     },
     "execution_count": 9,
     "metadata": {},
     "output_type": "execute_result"
    }
   ],
   "source": [
    "regressor = LinearRegression()\n",
    "regressor.fit(x_train,y_train)"
   ]
  },
  {
   "cell_type": "code",
   "execution_count": 10,
   "metadata": {
    "colab": {
     "base_uri": "https://localhost:8080/",
     "height": 833
    },
    "executionInfo": {
     "elapsed": 5,
     "status": "ok",
     "timestamp": 1658382733019,
     "user": {
      "displayName": "Nisheeth Chobisa",
      "userId": "10953597371653513919"
     },
     "user_tz": -330
    },
    "id": "sNSZjTIjn1uk",
    "outputId": "030ca590-e72b-4077-9522-7b2d6493d015"
   },
   "outputs": [
    {
     "data": {
      "text/html": [
       "<div>\n",
       "<style scoped>\n",
       "    .dataframe tbody tr th:only-of-type {\n",
       "        vertical-align: middle;\n",
       "    }\n",
       "\n",
       "    .dataframe tbody tr th {\n",
       "        vertical-align: top;\n",
       "    }\n",
       "\n",
       "    .dataframe thead th {\n",
       "        text-align: right;\n",
       "    }\n",
       "</style>\n",
       "<table border=\"1\" class=\"dataframe\">\n",
       "  <thead>\n",
       "    <tr style=\"text-align: right;\">\n",
       "      <th></th>\n",
       "      <th>Actual</th>\n",
       "      <th>Predicted</th>\n",
       "    </tr>\n",
       "  </thead>\n",
       "  <tbody>\n",
       "    <tr>\n",
       "      <th>0</th>\n",
       "      <td>207.729996</td>\n",
       "      <td>211.933274</td>\n",
       "    </tr>\n",
       "    <tr>\n",
       "      <th>1</th>\n",
       "      <td>28.280001</td>\n",
       "      <td>28.343446</td>\n",
       "    </tr>\n",
       "    <tr>\n",
       "      <th>2</th>\n",
       "      <td>24.010000</td>\n",
       "      <td>23.967470</td>\n",
       "    </tr>\n",
       "    <tr>\n",
       "      <th>3</th>\n",
       "      <td>315.230011</td>\n",
       "      <td>326.638890</td>\n",
       "    </tr>\n",
       "    <tr>\n",
       "      <th>4</th>\n",
       "      <td>200.240005</td>\n",
       "      <td>197.999511</td>\n",
       "    </tr>\n",
       "    <tr>\n",
       "      <th>5</th>\n",
       "      <td>210.240005</td>\n",
       "      <td>209.841431</td>\n",
       "    </tr>\n",
       "    <tr>\n",
       "      <th>6</th>\n",
       "      <td>26.440001</td>\n",
       "      <td>26.570540</td>\n",
       "    </tr>\n",
       "    <tr>\n",
       "      <th>7</th>\n",
       "      <td>22.790001</td>\n",
       "      <td>24.115965</td>\n",
       "    </tr>\n",
       "    <tr>\n",
       "      <th>8</th>\n",
       "      <td>224.839996</td>\n",
       "      <td>218.550465</td>\n",
       "    </tr>\n",
       "    <tr>\n",
       "      <th>9</th>\n",
       "      <td>353.179993</td>\n",
       "      <td>350.599448</td>\n",
       "    </tr>\n",
       "    <tr>\n",
       "      <th>10</th>\n",
       "      <td>219.039993</td>\n",
       "      <td>216.709997</td>\n",
       "    </tr>\n",
       "    <tr>\n",
       "      <th>11</th>\n",
       "      <td>278.480011</td>\n",
       "      <td>280.400500</td>\n",
       "    </tr>\n",
       "    <tr>\n",
       "      <th>12</th>\n",
       "      <td>31.799999</td>\n",
       "      <td>31.696980</td>\n",
       "    </tr>\n",
       "    <tr>\n",
       "      <th>13</th>\n",
       "      <td>102.199997</td>\n",
       "      <td>102.555421</td>\n",
       "    </tr>\n",
       "    <tr>\n",
       "      <th>14</th>\n",
       "      <td>20.430000</td>\n",
       "      <td>20.400226</td>\n",
       "    </tr>\n",
       "    <tr>\n",
       "      <th>15</th>\n",
       "      <td>346.049988</td>\n",
       "      <td>349.798911</td>\n",
       "    </tr>\n",
       "    <tr>\n",
       "      <th>16</th>\n",
       "      <td>104.629997</td>\n",
       "      <td>103.437858</td>\n",
       "    </tr>\n",
       "    <tr>\n",
       "      <th>17</th>\n",
       "      <td>260.170013</td>\n",
       "      <td>258.029938</td>\n",
       "    </tr>\n",
       "    <tr>\n",
       "      <th>18</th>\n",
       "      <td>28.059999</td>\n",
       "      <td>27.728118</td>\n",
       "    </tr>\n",
       "    <tr>\n",
       "      <th>19</th>\n",
       "      <td>225.000000</td>\n",
       "      <td>223.910762</td>\n",
       "    </tr>\n",
       "    <tr>\n",
       "      <th>20</th>\n",
       "      <td>359.700012</td>\n",
       "      <td>363.878761</td>\n",
       "    </tr>\n",
       "    <tr>\n",
       "      <th>21</th>\n",
       "      <td>327.779999</td>\n",
       "      <td>325.905607</td>\n",
       "    </tr>\n",
       "    <tr>\n",
       "      <th>22</th>\n",
       "      <td>220.690002</td>\n",
       "      <td>221.709428</td>\n",
       "    </tr>\n",
       "    <tr>\n",
       "      <th>23</th>\n",
       "      <td>337.950012</td>\n",
       "      <td>341.854508</td>\n",
       "    </tr>\n",
       "    <tr>\n",
       "      <th>24</th>\n",
       "      <td>308.739990</td>\n",
       "      <td>306.219717</td>\n",
       "    </tr>\n",
       "  </tbody>\n",
       "</table>\n",
       "</div>"
      ],
      "text/plain": [
       "        Actual   Predicted\n",
       "0   207.729996  211.933274\n",
       "1    28.280001   28.343446\n",
       "2    24.010000   23.967470\n",
       "3   315.230011  326.638890\n",
       "4   200.240005  197.999511\n",
       "5   210.240005  209.841431\n",
       "6    26.440001   26.570540\n",
       "7    22.790001   24.115965\n",
       "8   224.839996  218.550465\n",
       "9   353.179993  350.599448\n",
       "10  219.039993  216.709997\n",
       "11  278.480011  280.400500\n",
       "12   31.799999   31.696980\n",
       "13  102.199997  102.555421\n",
       "14   20.430000   20.400226\n",
       "15  346.049988  349.798911\n",
       "16  104.629997  103.437858\n",
       "17  260.170013  258.029938\n",
       "18   28.059999   27.728118\n",
       "19  225.000000  223.910762\n",
       "20  359.700012  363.878761\n",
       "21  327.779999  325.905607\n",
       "22  220.690002  221.709428\n",
       "23  337.950012  341.854508\n",
       "24  308.739990  306.219717"
      ]
     },
     "execution_count": 10,
     "metadata": {},
     "output_type": "execute_result"
    }
   ],
   "source": [
    "y_pred = regressor.predict(x_test)\n",
    "result = pd.DataFrame({\"Actual\" :y_test. flatten(), \"Predicted\":y_pred.flatten()})\n",
    "result.head (25)"
   ]
  },
  {
   "cell_type": "code",
   "execution_count": 11,
   "metadata": {
    "executionInfo": {
     "elapsed": 470,
     "status": "ok",
     "timestamp": 1658382737096,
     "user": {
      "displayName": "Nisheeth Chobisa",
      "userId": "10953597371653513919"
     },
     "user_tz": -330
    },
    "id": "tx5ybZO6n43G"
   },
   "outputs": [],
   "source": [
    "\n",
    "import math"
   ]
  },
  {
   "cell_type": "code",
   "execution_count": 12,
   "metadata": {
    "executionInfo": {
     "elapsed": 2,
     "status": "ok",
     "timestamp": 1658382738573,
     "user": {
      "displayName": "Nisheeth Chobisa",
      "userId": "10953597371653513919"
     },
     "user_tz": -330
    },
    "id": "io782rOfoD34"
   },
   "outputs": [],
   "source": [
    "\n",
    "graph = result.head(20)"
   ]
  },
  {
   "cell_type": "code",
   "execution_count": 13,
   "metadata": {
    "colab": {
     "base_uri": "https://localhost:8080/",
     "height": 285
    },
    "executionInfo": {
     "elapsed": 512,
     "status": "ok",
     "timestamp": 1658382741726,
     "user": {
      "displayName": "Nisheeth Chobisa",
      "userId": "10953597371653513919"
     },
     "user_tz": -330
    },
    "id": "5atDPuYDoH2S",
    "outputId": "93493dae-ee24-4bf4-e378-a7cdda7cbc69"
   },
   "outputs": [
    {
     "data": {
      "text/plain": [
       "<AxesSubplot:>"
      ]
     },
     "execution_count": 13,
     "metadata": {},
     "output_type": "execute_result"
    },
    {
     "data": {
      "image/png": "[encoded data removed]",
      "text/plain": [
       "<Figure size 432x288 with 1 Axes>"
      ]
     },
     "metadata": {},
     "output_type": "display_data"
    }
   ],
   "source": [
    "graph.plot(kind='bar')"
   ]
  },
  {
   "cell_type": "code",
   "execution_count": 14,
   "metadata": {
    "colab": {
     "base_uri": "https://localhost:8080/"
    },
    "executionInfo": {
     "elapsed": 565,
     "status": "ok",
     "timestamp": 1658382744181,
     "user": {
      "displayName": "Nisheeth Chobisa",
      "userId": "10953597371653513919"
     },
     "user_tz": -330
    },
    "id": "04cAVNQsoLL1",
    "outputId": "0e1240a6-0259-49ab-e3f7-8cae49708345"
   },
   "outputs": [
    {
     "data": {
      "text/plain": [
       "(2416, 6)"
      ]
     },
     "execution_count": 14,
     "metadata": {},
     "output_type": "execute_result"
    }
   ],
   "source": [
    "#Get the number of trading days\n",
    "df.shape"
   ]
  },
  {
   "cell_type": "code",
   "execution_count": 15,
   "metadata": {
    "colab": {
     "base_uri": "https://localhost:8080/",
     "height": 348
    },
    "executionInfo": {
     "elapsed": 853,
     "status": "ok",
     "timestamp": 1658382747292,
     "user": {
      "displayName": "Nisheeth Chobisa",
      "userId": "10953597371653513919"
     },
     "user_tz": -330
    },
    "id": "koxaM5VMoOx6",
    "outputId": "ccba0f14-0927-4de3-8538-0cf75e6489cf"
   },
   "outputs": [
    {
     "data": {
      "image/png": "[encoded data removed]",
      "text/plain": [
       "<Figure size 1152x576 with 1 Axes>"
      ]
     },
     "metadata": {},
     "output_type": "display_data"
    }
   ],
   "source": [
    "#visualize the close price data\n",
    "plt.figure(figsize=(16,8))\n",
    "plt.title('Tesla')\n",
    "plt.xlabel('days')\n",
    "plt.ylabel('Close Price USD ($)')\n",
    "plt.plot(df['Close'])\n",
    "plt.show()"
   ]
  },
  {
   "cell_type": "code",
   "execution_count": 16,
   "metadata": {
    "colab": {
     "base_uri": "https://localhost:8080/",
     "height": 175
    },
    "executionInfo": {
     "elapsed": 472,
     "status": "ok",
     "timestamp": 1658382751157,
     "user": {
      "displayName": "Nisheeth Chobisa",
      "userId": "10953597371653513919"
     },
     "user_tz": -330
    },
    "id": "S60sbqKQowJn",
    "outputId": "c4475b93-cb46-4683-c3bb-bce42cf87e68"
   },
   "outputs": [
    {
     "data": {
      "text/html": [
       "<div>\n",
       "<style scoped>\n",
       "    .dataframe tbody tr th:only-of-type {\n",
       "        vertical-align: middle;\n",
       "    }\n",
       "\n",
       "    .dataframe tbody tr th {\n",
       "        vertical-align: top;\n",
       "    }\n",
       "\n",
       "    .dataframe thead th {\n",
       "        text-align: right;\n",
       "    }\n",
       "</style>\n",
       "<table border=\"1\" class=\"dataframe\">\n",
       "  <thead>\n",
       "    <tr style=\"text-align: right;\">\n",
       "      <th></th>\n",
       "      <th>Open</th>\n",
       "      <th>High</th>\n",
       "      <th>Low</th>\n",
       "      <th>Close</th>\n",
       "      <th>Adj Close</th>\n",
       "      <th>Volume</th>\n",
       "    </tr>\n",
       "  </thead>\n",
       "  <tbody>\n",
       "    <tr>\n",
       "      <th>0</th>\n",
       "      <td>19.000000</td>\n",
       "      <td>25.00</td>\n",
       "      <td>17.540001</td>\n",
       "      <td>23.889999</td>\n",
       "      <td>23.889999</td>\n",
       "      <td>18766300</td>\n",
       "    </tr>\n",
       "    <tr>\n",
       "      <th>1</th>\n",
       "      <td>25.790001</td>\n",
       "      <td>30.42</td>\n",
       "      <td>23.299999</td>\n",
       "      <td>23.830000</td>\n",
       "      <td>23.830000</td>\n",
       "      <td>17187100</td>\n",
       "    </tr>\n",
       "    <tr>\n",
       "      <th>2</th>\n",
       "      <td>25.000000</td>\n",
       "      <td>25.92</td>\n",
       "      <td>20.270000</td>\n",
       "      <td>21.959999</td>\n",
       "      <td>21.959999</td>\n",
       "      <td>8218800</td>\n",
       "    </tr>\n",
       "    <tr>\n",
       "      <th>3</th>\n",
       "      <td>23.000000</td>\n",
       "      <td>23.10</td>\n",
       "      <td>18.709999</td>\n",
       "      <td>19.200001</td>\n",
       "      <td>19.200001</td>\n",
       "      <td>5139800</td>\n",
       "    </tr>\n",
       "  </tbody>\n",
       "</table>\n",
       "</div>"
      ],
      "text/plain": [
       "        Open   High        Low      Close  Adj Close    Volume\n",
       "0  19.000000  25.00  17.540001  23.889999  23.889999  18766300\n",
       "1  25.790001  30.42  23.299999  23.830000  23.830000  17187100\n",
       "2  25.000000  25.92  20.270000  21.959999  21.959999   8218800\n",
       "3  23.000000  23.10  18.709999  19.200001  19.200001   5139800"
      ]
     },
     "execution_count": 16,
     "metadata": {},
     "output_type": "execute_result"
    }
   ],
   "source": [
    "#Get the close price\n",
    "df-df[[\"Close\"]]\n",
    "df.head(4)"
   ]
  },
  {
   "cell_type": "code",
   "execution_count": 17,
   "metadata": {
    "colab": {
     "base_uri": "https://localhost:8080/",
     "height": 239
    },
    "executionInfo": {
     "elapsed": 729,
     "status": "ok",
     "timestamp": 1658383339142,
     "user": {
      "displayName": "Nisheeth Chobisa",
      "userId": "10953597371653513919"
     },
     "user_tz": -330
    },
    "id": "kCpCgv38o0hp",
    "outputId": "de74c8e2-bcc0-4194-d412-93053846c1eb"
   },
   "outputs": [
    {
     "data": {
      "text/html": [
       "<div>\n",
       "<style scoped>\n",
       "    .dataframe tbody tr th:only-of-type {\n",
       "        vertical-align: middle;\n",
       "    }\n",
       "\n",
       "    .dataframe tbody tr th {\n",
       "        vertical-align: top;\n",
       "    }\n",
       "\n",
       "    .dataframe thead th {\n",
       "        text-align: right;\n",
       "    }\n",
       "</style>\n",
       "<table border=\"1\" class=\"dataframe\">\n",
       "  <thead>\n",
       "    <tr style=\"text-align: right;\">\n",
       "      <th></th>\n",
       "      <th>Open</th>\n",
       "      <th>High</th>\n",
       "      <th>Low</th>\n",
       "      <th>Close</th>\n",
       "      <th>Adj Close</th>\n",
       "      <th>Volume</th>\n",
       "      <th>Prediction</th>\n",
       "    </tr>\n",
       "  </thead>\n",
       "  <tbody>\n",
       "    <tr>\n",
       "      <th>2412</th>\n",
       "      <td>575.690002</td>\n",
       "      <td>589.799988</td>\n",
       "      <td>567.429993</td>\n",
       "      <td>580.989990</td>\n",
       "      <td>580.989990</td>\n",
       "      <td>17801500</td>\n",
       "      <td>NaN</td>\n",
       "    </tr>\n",
       "    <tr>\n",
       "      <th>2413</th>\n",
       "      <td>632.419983</td>\n",
       "      <td>650.880005</td>\n",
       "      <td>618.000000</td>\n",
       "      <td>640.809998</td>\n",
       "      <td>640.809998</td>\n",
       "      <td>29005700</td>\n",
       "      <td>NaN</td>\n",
       "    </tr>\n",
       "    <tr>\n",
       "      <th>2414</th>\n",
       "      <td>640.000000</td>\n",
       "      <td>653.000000</td>\n",
       "      <td>632.520020</td>\n",
       "      <td>650.570007</td>\n",
       "      <td>650.570007</td>\n",
       "      <td>15719300</td>\n",
       "      <td>NaN</td>\n",
       "    </tr>\n",
       "    <tr>\n",
       "      <th>2415</th>\n",
       "      <td>673.690002</td>\n",
       "      <td>786.140015</td>\n",
       "      <td>673.520020</td>\n",
       "      <td>780.000000</td>\n",
       "      <td>780.000000</td>\n",
       "      <td>47065000</td>\n",
       "      <td>NaN</td>\n",
       "    </tr>\n",
       "  </tbody>\n",
       "</table>\n",
       "</div>"
      ],
      "text/plain": [
       "            Open        High         Low       Close   Adj Close    Volume  \\\n",
       "2412  575.690002  589.799988  567.429993  580.989990  580.989990  17801500   \n",
       "2413  632.419983  650.880005  618.000000  640.809998  640.809998  29005700   \n",
       "2414  640.000000  653.000000  632.520020  650.570007  650.570007  15719300   \n",
       "2415  673.690002  786.140015  673.520020  780.000000  780.000000  47065000   \n",
       "\n",
       "      Prediction  \n",
       "2412         NaN  \n",
       "2413         NaN  \n",
       "2414         NaN  \n",
       "2415         NaN  "
      ]
     },
     "execution_count": 17,
     "metadata": {},
     "output_type": "execute_result"
    }
   ],
   "source": [
    "#Create a variable to predict 'x' days out into the future\n",
    "future_days=25\n",
    "df['Prediction']=df[[\"Close\"]].shift(- future_days)\n",
    "df.tail(4)"
   ]
  },
  {
   "cell_type": "code",
   "execution_count": 18,
   "metadata": {
    "colab": {
     "base_uri": "https://localhost:8080/"
    },
    "executionInfo": {
     "elapsed": 2,
     "status": "ok",
     "timestamp": 1658382755285,
     "user": {
      "displayName": "Nisheeth Chobisa",
      "userId": "10953597371653513919"
     },
     "user_tz": -330
    },
    "id": "TEn0w_qQo4wB",
    "outputId": "5cfaea21-8f3a-44e5-8c23-8efa47b72458"
   },
   "outputs": [
    {
     "name": "stdout",
     "output_type": "stream",
     "text": [
      "[[1.90000000e+01 2.50000000e+01 1.75400010e+01 2.38899990e+01\n",
      "  2.38899990e+01 1.87663000e+07]\n",
      " [2.57900010e+01 3.04200000e+01 2.32999990e+01 2.38300000e+01\n",
      "  2.38300000e+01 1.71871000e+07]\n",
      " [2.50000000e+01 2.59200000e+01 2.02700000e+01 2.19599990e+01\n",
      "  2.19599990e+01 8.21880000e+06]\n",
      " ...\n",
      " [4.11779999e+02 4.22010010e+02 4.10000000e+02 4.19220001e+02\n",
      "  4.19220001e+02 1.33196000e+07]\n",
      " [4.18359985e+02 4.25470001e+02 4.12690002e+02 4.25250000e+02\n",
      "  4.25250000e+02 8.05470000e+06]\n",
      " [4.27910004e+02 4.33480011e+02 4.26350006e+02 4.30940002e+02\n",
      "  4.30940002e+02 1.06339000e+07]]\n"
     ]
    }
   ],
   "source": [
    "#Create the feature date set (X) and convert it to a numpy array and remove the Last 'x' rous/desy\n",
    "X=np.array(df.drop(['Prediction'],1))[:-future_days]\n",
    "print(X)"
   ]
  },
  {
   "cell_type": "code",
   "execution_count": 19,
   "metadata": {
    "colab": {
     "base_uri": "https://localhost:8080/"
    },
    "executionInfo": {
     "elapsed": 529,
     "status": "ok",
     "timestamp": 1658382757798,
     "user": {
      "displayName": "Nisheeth Chobisa",
      "userId": "10953597371653513919"
     },
     "user_tz": -330
    },
    "id": "KLXJqLNppKBC",
    "outputId": "f9564f6d-0c63-4529-8db2-78bd115df6de"
   },
   "outputs": [
    {
     "name": "stdout",
     "output_type": "stream",
     "text": [
      "[ 21.26      20.450001  19.59     ... 640.809998 650.570007 780.      ]\n"
     ]
    }
   ],
   "source": [
    "\n",
    "#Create the target date set (y) and convert it to a numpy array and get all the target values except the last 's rous/days\n",
    "y=np.array(df['Prediction'])[:-future_days]\n",
    "print(y)\n"
   ]
  },
  {
   "cell_type": "code",
   "execution_count": 20,
   "metadata": {
    "executionInfo": {
     "elapsed": 565,
     "status": "ok",
     "timestamp": 1658382945112,
     "user": {
      "displayName": "Nisheeth Chobisa",
      "userId": "10953597371653513919"
     },
     "user_tz": -330
    },
    "id": "S9sRLYkspe8n"
   },
   "outputs": [],
   "source": [
    "#split the data into s training and 25% testing\n",
    "x_train, x_test, y_train, y_test= train_test_split(X,y, test_size=0.25)"
   ]
  },
  {
   "cell_type": "code",
   "execution_count": 21,
   "metadata": {
    "colab": {
     "base_uri": "https://localhost:8080/"
    },
    "executionInfo": {
     "elapsed": 496,
     "status": "ok",
     "timestamp": 1658382947890,
     "user": {
      "displayName": "Nisheeth Chobisa",
      "userId": "10953597371653513919"
     },
     "user_tz": -330
    },
    "id": "XlZP0dxJqUpK",
    "outputId": "13e35782-8bb0-438b-d2db-8efd797f6388"
   },
   "outputs": [
    {
     "data": {
      "text/plain": [
       "array([[3.60000000e+02, 3.61200012e+02, 3.49570007e+02, 3.52220001e+02,\n",
       "        3.52220001e+02, 6.72510000e+06],\n",
       "       [3.54510010e+02, 3.60839996e+02, 3.54000000e+02, 3.54829987e+02,\n",
       "        3.54829987e+02, 6.11000000e+06],\n",
       "       [3.40160004e+02, 3.41000000e+02, 3.30000000e+02, 3.33040009e+02,\n",
       "        3.33040009e+02, 1.68706000e+07],\n",
       "       [3.44320007e+02, 3.44570007e+02, 3.34459991e+02, 3.36339996e+02,\n",
       "        3.36339996e+02, 1.23395000e+07],\n",
       "       [3.35269989e+02, 3.35500000e+02, 3.27100006e+02, 3.28920013e+02,\n",
       "        3.28920013e+02, 7.94740000e+06],\n",
       "       [3.31119995e+02, 3.33929993e+02, 3.28570007e+02, 3.31290009e+02,\n",
       "        3.31290009e+02, 5.55560000e+06],\n",
       "       [3.31109985e+02, 3.31260010e+02, 3.27500000e+02, 3.29940002e+02,\n",
       "        3.29940002e+02, 2.46560000e+06],\n",
       "       [3.29399994e+02, 3.36380005e+02, 3.28690002e+02, 3.34869995e+02,\n",
       "        3.34869995e+02, 6.07450000e+06],\n",
       "       [3.32619995e+02, 3.37910004e+02, 3.32190002e+02, 3.36200012e+02,\n",
       "        3.36200012e+02, 6.57370000e+06],\n",
       "       [3.37750000e+02, 3.37859985e+02, 3.32850006e+02, 3.33029999e+02,\n",
       "        3.33029999e+02, 5.53300000e+06],\n",
       "       [3.32829987e+02, 3.34420013e+02, 3.27250000e+02, 3.30369995e+02,\n",
       "        3.30369995e+02, 3.72460000e+06],\n",
       "       [3.35000000e+02, 3.38859985e+02, 3.34769989e+02, 3.35890015e+02,\n",
       "        3.35890015e+02, 7.61240000e+06],\n",
       "       [3.36589996e+02, 3.44450012e+02, 3.35079987e+02, 3.39529999e+02,\n",
       "        3.39529999e+02, 9.02310000e+06],\n",
       "       [3.39959991e+02, 3.50730011e+02, 3.39309998e+02, 3.48839996e+02,\n",
       "        3.48839996e+02, 8.82830000e+06],\n",
       "       [3.51880005e+02, 3.57190002e+02, 3.51089996e+02, 3.52700012e+02,\n",
       "        3.52700012e+02, 6.89780000e+06],\n",
       "       [3.54920013e+02, 3.62739990e+02, 3.53230011e+02, 3.59679993e+02,\n",
       "        3.59679993e+02, 7.76390000e+06],\n",
       "       [3.61049988e+02, 3.65209991e+02, 3.54640015e+02, 3.58390015e+02,\n",
       "        3.58390015e+02, 6.57090000e+06],\n",
       "       [3.62549988e+02, 3.83609985e+02, 3.62500000e+02, 3.81500000e+02,\n",
       "        3.81500000e+02, 1.81742000e+07],\n",
       "       [3.78989990e+02, 3.85500000e+02, 3.75899994e+02, 3.78989990e+02,\n",
       "        3.78989990e+02, 8.49680000e+06],\n",
       "       [3.80630005e+02, 3.95220001e+02, 3.80579987e+02, 3.93149994e+02,\n",
       "        3.93149994e+02, 1.41210000e+07],\n",
       "       [3.97320007e+02, 4.06850006e+02, 3.96500000e+02, 4.04040009e+02,\n",
       "        4.04040009e+02, 1.81071000e+07],\n",
       "       [4.10290009e+02, 4.13000000e+02, 4.00190002e+02, 4.05589996e+02,\n",
       "        4.05589996e+02, 1.47527000e+07],\n",
       "       [4.11779999e+02, 4.22010010e+02, 4.10000000e+02, 4.19220001e+02,\n",
       "        4.19220001e+02, 1.33196000e+07],\n",
       "       [4.18359985e+02, 4.25470001e+02, 4.12690002e+02, 4.25250000e+02,\n",
       "        4.25250000e+02, 8.05470000e+06],\n",
       "       [4.27910004e+02, 4.33480011e+02, 4.26350006e+02, 4.30940002e+02,\n",
       "        4.30940002e+02, 1.06339000e+07]])"
      ]
     },
     "execution_count": 21,
     "metadata": {},
     "output_type": "execute_result"
    }
   ],
   "source": [
    "#Get the Last 'x' rows of the feature data set\n",
    "x_future=df.drop(['Prediction'],1)[:-future_days]\n",
    "x_future=x_future.tail(future_days)\n",
    "x_future=np.array(x_future)\n",
    "x_future\n"
   ]
  },
  {
   "cell_type": "code",
   "execution_count": 22,
   "metadata": {
    "executionInfo": {
     "elapsed": 485,
     "status": "ok",
     "timestamp": 1658382765335,
     "user": {
      "displayName": "Nisheeth Chobisa",
      "userId": "10953597371653513919"
     },
     "user_tz": -330
    },
    "id": "R3uCY60gRYMY"
   },
   "outputs": [
    {
     "ename": "KeyError",
     "evalue": "\"['Date'] not found in axis\"",
     "output_type": "error",
     "traceback": [
      "\u001b[1;31m---------------------------------------------------------------------------\u001b[0m",
      "\u001b[1;31mKeyError\u001b[0m                                  Traceback (most recent call last)",
      "\u001b[1;32m<ipython-input-22-432e007b28d8>\u001b[0m in \u001b[0;36m<module>\u001b[1;34m\u001b[0m\n\u001b[1;32m----> 1\u001b[1;33m \u001b[0mdf\u001b[0m \u001b[1;33m=\u001b[0m \u001b[0mdf\u001b[0m\u001b[1;33m.\u001b[0m\u001b[0mdrop\u001b[0m\u001b[1;33m(\u001b[0m\u001b[0mcolumns\u001b[0m\u001b[1;33m=\u001b[0m\u001b[1;33m[\u001b[0m\u001b[1;34m'Date'\u001b[0m\u001b[1;33m]\u001b[0m\u001b[1;33m)\u001b[0m\u001b[1;33m\u001b[0m\u001b[1;33m\u001b[0m\u001b[0m\n\u001b[0m",
      "\u001b[1;32m~\\anaconda3\\lib\\site-packages\\pandas\\core\\frame.py\u001b[0m in \u001b[0;36mdrop\u001b[1;34m(self, labels, axis, index, columns, level, inplace, errors)\u001b[0m\n\u001b[0;32m   3988\u001b[0m                 \u001b[0mweight\u001b[0m  \u001b[1;36m1.0\u001b[0m     \u001b[1;36m0.8\u001b[0m\u001b[1;33m\u001b[0m\u001b[1;33m\u001b[0m\u001b[0m\n\u001b[0;32m   3989\u001b[0m         \"\"\"\n\u001b[1;32m-> 3990\u001b[1;33m         return super().drop(\n\u001b[0m\u001b[0;32m   3991\u001b[0m             \u001b[0mlabels\u001b[0m\u001b[1;33m=\u001b[0m\u001b[0mlabels\u001b[0m\u001b[1;33m,\u001b[0m\u001b[1;33m\u001b[0m\u001b[1;33m\u001b[0m\u001b[0m\n\u001b[0;32m   3992\u001b[0m             \u001b[0maxis\u001b[0m\u001b[1;33m=\u001b[0m\u001b[0maxis\u001b[0m\u001b[1;33m,\u001b[0m\u001b[1;33m\u001b[0m\u001b[1;33m\u001b[0m\u001b[0m\n",
      "\u001b[1;32m~\\anaconda3\\lib\\site-packages\\pandas\\core\\generic.py\u001b[0m in \u001b[0;36mdrop\u001b[1;34m(self, labels, axis, index, columns, level, inplace, errors)\u001b[0m\n\u001b[0;32m   3934\u001b[0m         \u001b[1;32mfor\u001b[0m \u001b[0maxis\u001b[0m\u001b[1;33m,\u001b[0m \u001b[0mlabels\u001b[0m \u001b[1;32min\u001b[0m \u001b[0maxes\u001b[0m\u001b[1;33m.\u001b[0m\u001b[0mitems\u001b[0m\u001b[1;33m(\u001b[0m\u001b[1;33m)\u001b[0m\u001b[1;33m:\u001b[0m\u001b[1;33m\u001b[0m\u001b[1;33m\u001b[0m\u001b[0m\n\u001b[0;32m   3935\u001b[0m             \u001b[1;32mif\u001b[0m \u001b[0mlabels\u001b[0m \u001b[1;32mis\u001b[0m \u001b[1;32mnot\u001b[0m \u001b[1;32mNone\u001b[0m\u001b[1;33m:\u001b[0m\u001b[1;33m\u001b[0m\u001b[1;33m\u001b[0m\u001b[0m\n\u001b[1;32m-> 3936\u001b[1;33m                 \u001b[0mobj\u001b[0m \u001b[1;33m=\u001b[0m \u001b[0mobj\u001b[0m\u001b[1;33m.\u001b[0m\u001b[0m_drop_axis\u001b[0m\u001b[1;33m(\u001b[0m\u001b[0mlabels\u001b[0m\u001b[1;33m,\u001b[0m \u001b[0maxis\u001b[0m\u001b[1;33m,\u001b[0m \u001b[0mlevel\u001b[0m\u001b[1;33m=\u001b[0m\u001b[0mlevel\u001b[0m\u001b[1;33m,\u001b[0m \u001b[0merrors\u001b[0m\u001b[1;33m=\u001b[0m\u001b[0merrors\u001b[0m\u001b[1;33m)\u001b[0m\u001b[1;33m\u001b[0m\u001b[1;33m\u001b[0m\u001b[0m\n\u001b[0m\u001b[0;32m   3937\u001b[0m \u001b[1;33m\u001b[0m\u001b[0m\n\u001b[0;32m   3938\u001b[0m         \u001b[1;32mif\u001b[0m \u001b[0minplace\u001b[0m\u001b[1;33m:\u001b[0m\u001b[1;33m\u001b[0m\u001b[1;33m\u001b[0m\u001b[0m\n",
      "\u001b[1;32m~\\anaconda3\\lib\\site-packages\\pandas\\core\\generic.py\u001b[0m in \u001b[0;36m_drop_axis\u001b[1;34m(self, labels, axis, level, errors)\u001b[0m\n\u001b[0;32m   3968\u001b[0m                 \u001b[0mnew_axis\u001b[0m \u001b[1;33m=\u001b[0m \u001b[0maxis\u001b[0m\u001b[1;33m.\u001b[0m\u001b[0mdrop\u001b[0m\u001b[1;33m(\u001b[0m\u001b[0mlabels\u001b[0m\u001b[1;33m,\u001b[0m \u001b[0mlevel\u001b[0m\u001b[1;33m=\u001b[0m\u001b[0mlevel\u001b[0m\u001b[1;33m,\u001b[0m \u001b[0merrors\u001b[0m\u001b[1;33m=\u001b[0m\u001b[0merrors\u001b[0m\u001b[1;33m)\u001b[0m\u001b[1;33m\u001b[0m\u001b[1;33m\u001b[0m\u001b[0m\n\u001b[0;32m   3969\u001b[0m             \u001b[1;32melse\u001b[0m\u001b[1;33m:\u001b[0m\u001b[1;33m\u001b[0m\u001b[1;33m\u001b[0m\u001b[0m\n\u001b[1;32m-> 3970\u001b[1;33m                 \u001b[0mnew_axis\u001b[0m \u001b[1;33m=\u001b[0m \u001b[0maxis\u001b[0m\u001b[1;33m.\u001b[0m\u001b[0mdrop\u001b[0m\u001b[1;33m(\u001b[0m\u001b[0mlabels\u001b[0m\u001b[1;33m,\u001b[0m \u001b[0merrors\u001b[0m\u001b[1;33m=\u001b[0m\u001b[0merrors\u001b[0m\u001b[1;33m)\u001b[0m\u001b[1;33m\u001b[0m\u001b[1;33m\u001b[0m\u001b[0m\n\u001b[0m\u001b[0;32m   3971\u001b[0m             \u001b[0mresult\u001b[0m \u001b[1;33m=\u001b[0m \u001b[0mself\u001b[0m\u001b[1;33m.\u001b[0m\u001b[0mreindex\u001b[0m\u001b[1;33m(\u001b[0m\u001b[1;33m**\u001b[0m\u001b[1;33m{\u001b[0m\u001b[0maxis_name\u001b[0m\u001b[1;33m:\u001b[0m \u001b[0mnew_axis\u001b[0m\u001b[1;33m}\u001b[0m\u001b[1;33m)\u001b[0m\u001b[1;33m\u001b[0m\u001b[1;33m\u001b[0m\u001b[0m\n\u001b[0;32m   3972\u001b[0m \u001b[1;33m\u001b[0m\u001b[0m\n",
      "\u001b[1;32m~\\anaconda3\\lib\\site-packages\\pandas\\core\\indexes\\base.py\u001b[0m in \u001b[0;36mdrop\u001b[1;34m(self, labels, errors)\u001b[0m\n\u001b[0;32m   5016\u001b[0m         \u001b[1;32mif\u001b[0m \u001b[0mmask\u001b[0m\u001b[1;33m.\u001b[0m\u001b[0many\u001b[0m\u001b[1;33m(\u001b[0m\u001b[1;33m)\u001b[0m\u001b[1;33m:\u001b[0m\u001b[1;33m\u001b[0m\u001b[1;33m\u001b[0m\u001b[0m\n\u001b[0;32m   5017\u001b[0m             \u001b[1;32mif\u001b[0m \u001b[0merrors\u001b[0m \u001b[1;33m!=\u001b[0m \u001b[1;34m\"ignore\"\u001b[0m\u001b[1;33m:\u001b[0m\u001b[1;33m\u001b[0m\u001b[1;33m\u001b[0m\u001b[0m\n\u001b[1;32m-> 5018\u001b[1;33m                 \u001b[1;32mraise\u001b[0m \u001b[0mKeyError\u001b[0m\u001b[1;33m(\u001b[0m\u001b[1;34mf\"{labels[mask]} not found in axis\"\u001b[0m\u001b[1;33m)\u001b[0m\u001b[1;33m\u001b[0m\u001b[1;33m\u001b[0m\u001b[0m\n\u001b[0m\u001b[0;32m   5019\u001b[0m             \u001b[0mindexer\u001b[0m \u001b[1;33m=\u001b[0m \u001b[0mindexer\u001b[0m\u001b[1;33m[\u001b[0m\u001b[1;33m~\u001b[0m\u001b[0mmask\u001b[0m\u001b[1;33m]\u001b[0m\u001b[1;33m\u001b[0m\u001b[1;33m\u001b[0m\u001b[0m\n\u001b[0;32m   5020\u001b[0m         \u001b[1;32mreturn\u001b[0m \u001b[0mself\u001b[0m\u001b[1;33m.\u001b[0m\u001b[0mdelete\u001b[0m\u001b[1;33m(\u001b[0m\u001b[0mindexer\u001b[0m\u001b[1;33m)\u001b[0m\u001b[1;33m\u001b[0m\u001b[1;33m\u001b[0m\u001b[0m\n",
      "\u001b[1;31mKeyError\u001b[0m: \"['Date'] not found in axis\""
     ]
    }
   ],
   "source": [
    "df = df.drop(columns=['Date'])"
   ]
  },
  {
   "cell_type": "code",
   "execution_count": 23,
   "metadata": {
    "colab": {
     "base_uri": "https://localhost:8080/",
     "height": 206
    },
    "executionInfo": {
     "elapsed": 483,
     "status": "ok",
     "timestamp": 1658382894018,
     "user": {
      "displayName": "Nisheeth Chobisa",
      "userId": "10953597371653513919"
     },
     "user_tz": -330
    },
    "id": "6Hm5BGUAUoab",
    "outputId": "b54d1d5a-aaaf-4993-f5e0-64f2a5c1728f"
   },
   "outputs": [
    {
     "data": {
      "text/html": [
       "<div>\n",
       "<style scoped>\n",
       "    .dataframe tbody tr th:only-of-type {\n",
       "        vertical-align: middle;\n",
       "    }\n",
       "\n",
       "    .dataframe tbody tr th {\n",
       "        vertical-align: top;\n",
       "    }\n",
       "\n",
       "    .dataframe thead th {\n",
       "        text-align: right;\n",
       "    }\n",
       "</style>\n",
       "<table border=\"1\" class=\"dataframe\">\n",
       "  <thead>\n",
       "    <tr style=\"text-align: right;\">\n",
       "      <th></th>\n",
       "      <th>Open</th>\n",
       "      <th>High</th>\n",
       "      <th>Low</th>\n",
       "      <th>Close</th>\n",
       "      <th>Adj Close</th>\n",
       "      <th>Volume</th>\n",
       "      <th>Prediction</th>\n",
       "    </tr>\n",
       "  </thead>\n",
       "  <tbody>\n",
       "    <tr>\n",
       "      <th>0</th>\n",
       "      <td>19.000000</td>\n",
       "      <td>25.00</td>\n",
       "      <td>17.540001</td>\n",
       "      <td>23.889999</td>\n",
       "      <td>23.889999</td>\n",
       "      <td>18766300</td>\n",
       "      <td>21.260000</td>\n",
       "    </tr>\n",
       "    <tr>\n",
       "      <th>1</th>\n",
       "      <td>25.790001</td>\n",
       "      <td>30.42</td>\n",
       "      <td>23.299999</td>\n",
       "      <td>23.830000</td>\n",
       "      <td>23.830000</td>\n",
       "      <td>17187100</td>\n",
       "      <td>20.450001</td>\n",
       "    </tr>\n",
       "    <tr>\n",
       "      <th>2</th>\n",
       "      <td>25.000000</td>\n",
       "      <td>25.92</td>\n",
       "      <td>20.270000</td>\n",
       "      <td>21.959999</td>\n",
       "      <td>21.959999</td>\n",
       "      <td>8218800</td>\n",
       "      <td>19.590000</td>\n",
       "    </tr>\n",
       "    <tr>\n",
       "      <th>3</th>\n",
       "      <td>23.000000</td>\n",
       "      <td>23.10</td>\n",
       "      <td>18.709999</td>\n",
       "      <td>19.200001</td>\n",
       "      <td>19.200001</td>\n",
       "      <td>5139800</td>\n",
       "      <td>19.600000</td>\n",
       "    </tr>\n",
       "    <tr>\n",
       "      <th>4</th>\n",
       "      <td>20.000000</td>\n",
       "      <td>20.00</td>\n",
       "      <td>15.830000</td>\n",
       "      <td>16.110001</td>\n",
       "      <td>16.110001</td>\n",
       "      <td>6866900</td>\n",
       "      <td>19.030001</td>\n",
       "    </tr>\n",
       "  </tbody>\n",
       "</table>\n",
       "</div>"
      ],
      "text/plain": [
       "        Open   High        Low      Close  Adj Close    Volume  Prediction\n",
       "0  19.000000  25.00  17.540001  23.889999  23.889999  18766300   21.260000\n",
       "1  25.790001  30.42  23.299999  23.830000  23.830000  17187100   20.450001\n",
       "2  25.000000  25.92  20.270000  21.959999  21.959999   8218800   19.590000\n",
       "3  23.000000  23.10  18.709999  19.200001  19.200001   5139800   19.600000\n",
       "4  20.000000  20.00  15.830000  16.110001  16.110001   6866900   19.030001"
      ]
     },
     "execution_count": 23,
     "metadata": {},
     "output_type": "execute_result"
    }
   ],
   "source": [
    "df.head()"
   ]
  },
  {
   "cell_type": "code",
   "execution_count": 24,
   "metadata": {
    "colab": {
     "base_uri": "https://localhost:8080/",
     "height": 415
    },
    "executionInfo": {
     "elapsed": 498,
     "status": "error",
     "timestamp": 1658383817898,
     "user": {
      "displayName": "Nisheeth Chobisa",
      "userId": "10953597371653513919"
     },
     "user_tz": -330
    },
    "id": "ieW1GJbZsdFn",
    "outputId": "43f978ef-9a6e-4112-a70f-2ab1fef67fc1"
   },
   "outputs": [],
   "source": [
    "#Create the models\n",
    "#Create the decision tree regressor model\n",
    "lr = LinearRegression().fit(x_train, y_train)\n"
   ]
  },
  {
   "cell_type": "code",
   "execution_count": 25,
   "metadata": {
    "colab": {
     "base_uri": "https://localhost:8080/",
     "height": 201
    },
    "executionInfo": {
     "elapsed": 467,
     "status": "error",
     "timestamp": 1658382798767,
     "user": {
      "displayName": "Nisheeth Chobisa",
      "userId": "10953597371653513919"
     },
     "user_tz": -330
    },
    "id": "RwMjuCQfuJbQ",
    "outputId": "0007e885-c962-4fe9-d1b1-0dd814c16428"
   },
   "outputs": [
    {
     "name": "stdout",
     "output_type": "stream",
     "text": [
      "[353.60531575 361.2245448  347.77423118 346.05800389 334.07833202\n",
      " 335.74756221 330.46167656 338.50259355 342.05859474 337.83783759\n",
      " 330.69143627 344.94123649 347.1238196  353.50144106 359.79051591\n",
      " 364.3703703  360.79033452 391.50089479 385.53738539 402.31958088\n",
      " 421.33766047 415.39840527 428.62783325 424.43639539 440.15310093]\n"
     ]
    }
   ],
   "source": [
    "#show the model Linear regression prediction\n",
    "lr_prediction = lr.predict(x_future)\n",
    "print(lr_prediction)"
   ]
  },
  {
   "cell_type": "code",
   "execution_count": 26,
   "metadata": {
    "colab": {
     "base_uri": "https://localhost:8080/",
     "height": 235
    },
    "executionInfo": {
     "elapsed": 12,
     "status": "error",
     "timestamp": 1658340596212,
     "user": {
      "displayName": "Nisheeth Chobisa",
      "userId": "10953597371653513919"
     },
     "user_tz": -330
    },
    "id": "Puq023fPysZB",
    "outputId": "9c8f5fcf-caa3-4210-d6b2-3d097c151af5"
   },
   "outputs": [
    {
     "name": "stderr",
     "output_type": "stream",
     "text": [
      "<ipython-input-26-b97150d3b6af>:4: SettingWithCopyWarning: \n",
      "A value is trying to be set on a copy of a slice from a DataFrame.\n",
      "Try using .loc[row_indexer,col_indexer] = value instead\n",
      "\n",
      "See the caveats in the documentation: https://pandas.pydata.org/pandas-docs/stable/user_guide/indexing.html#returning-a-view-versus-a-copy\n",
      "  valid['Prediction']= predictions\n"
     ]
    },
    {
     "data": {
      "image/png": "[encoded data removed]",
      "text/plain": [
       "<Figure size 1152x576 with 1 Axes>"
      ]
     },
     "metadata": {},
     "output_type": "display_data"
    }
   ],
   "source": [
    "#visualize the date\n",
    "predictions = lr_prediction\n",
    "valid=df[X.shape[0]:]\n",
    "valid['Prediction']= predictions\n",
    "plt.figure(figsize=(16,8))\n",
    "plt.title('Model')\n",
    "plt.xlabel('Days')\n",
    "plt.ylabel('close Price Usd ($)')\n",
    "plt.plot(df[\"Close\"])\n",
    "plt.plot(valid[['Close', 'Prediction']])\n",
    "plt.legend(['Orig', 'Val', 'Pred'])\n",
    "plt.show()"
   ]
  },
  {
   "cell_type": "code",
   "execution_count": null,
   "metadata": {},
   "outputs": [],
   "source": []
  }
 ],
 "metadata": {
  "colab": {
   "authorship_tag": "ABX9TyM7Svb8fOMW6nvKeO+0dM+i",
   "collapsed_sections": [],
   "mount_file_id": "1Uz-H_c0kvqnYNpJktSVmFS13N0cZlvUb",
   "name": "Untitled0.ipynb",
   "provenance": []
  },
  "kernelspec": {
   "display_name": "Python 3",
   "language": "python",
   "name": "python3"
  },
  "language_info": {
   "codemirror_mode": {
    "name": "ipython",
    "version": 3
   },
   "file_extension": ".py",
   "mimetype": "text/x-python",
   "name": "python",
   "nbconvert_exporter": "python",
   "pygments_lexer": "ipython3",
   "version": "3.8.5"
  }
 },
 "nbformat": 4,
 "nbformat_minor": 1
}
